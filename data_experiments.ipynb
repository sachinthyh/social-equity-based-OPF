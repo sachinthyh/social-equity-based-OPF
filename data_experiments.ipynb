{
 "cells": [
  {
   "metadata": {
    "ExecuteTime": {
     "end_time": "2024-06-28T15:27:48.877820Z",
     "start_time": "2024-06-28T15:27:46.311969Z"
    }
   },
   "cell_type": "code",
   "source": [
    "# Importing packages\n",
    "import pandas as pd\n",
    "import numpy as np"
   ],
   "id": "d7ce9449c40b9693",
   "outputs": [],
   "execution_count": 1
  },
  {
   "metadata": {},
   "cell_type": "code",
   "outputs": [],
   "execution_count": null,
   "source": "",
   "id": "7de835e23a69b897"
  }
 ],
 "metadata": {
  "kernelspec": {
   "display_name": "Python 3",
   "language": "python",
   "name": "python3"
  },
  "language_info": {
   "codemirror_mode": {
    "name": "ipython",
    "version": 2
   },
   "file_extension": ".py",
   "mimetype": "text/x-python",
   "name": "python",
   "nbconvert_exporter": "python",
   "pygments_lexer": "ipython2",
   "version": "2.7.6"
  }
 },
 "nbformat": 4,
 "nbformat_minor": 5
}
